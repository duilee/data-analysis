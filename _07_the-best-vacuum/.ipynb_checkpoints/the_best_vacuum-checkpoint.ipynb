{
 "cells": [
  {
   "cell_type": "code",
   "execution_count": 1,
   "metadata": {},
   "outputs": [],
   "source": [
    "import plotly.io as pio\n",
    "pio.renderers.default = 'notebook_connected'"
   ]
  },
  {
   "cell_type": "markdown",
   "metadata": {},
   "source": [
    "## 무선청소기 어느 것을 살까?"
   ]
  },
  {
   "cell_type": "markdown",
   "metadata": {},
   "source": [
    "여러 제조사별 무선청소기의 가격과 성능에 대한 데이터를 수집하고, 분석을 통해 상황에 맞는 제품군이 무엇인지 알아본다."
   ]
  },
  {
   "cell_type": "markdown",
   "metadata": {},
   "source": [
    "### 1. 데이터 수집"
   ]
  },
  {
   "cell_type": "code",
   "execution_count": 2,
   "metadata": {},
   "outputs": [],
   "source": [
    "# 다나와 접속 후 무선청소기 검색\n",
    "from selenium import webdriver\n",
    "browser = webdriver.Chrome(\"C:/Users/DooDoo/Desktop/data_analysis/chromedriver.exe\")\n",
    "url = \"http://search.danawa.com/dsearch.php?query=무선청소기&tab=main\"\n",
    "browser.get(url)"
   ]
  },
  {
   "cell_type": "code",
   "execution_count": 5,
   "metadata": {},
   "outputs": [],
   "source": [
    "# 검색 결과 html 정보 가져오기\n",
    "from bs4 import BeautifulSoup\n",
    "html = browser.page_source\n",
    "soup = BeautifulSoup(html, 'html.parser')"
   ]
  },
  {
   "cell_type": "code",
   "execution_count": 9,
   "metadata": {},
   "outputs": [
    {
     "data": {
      "text/plain": [
       "41"
      ]
     },
     "execution_count": 9,
     "metadata": {},
     "output_type": "execute_result"
    }
   ],
   "source": [
    "prod_items = soup.select('div.main_prodlist > ul.product_list > li.prod_item')\n",
    "len(prod_items)"
   ]
  },
  {
   "cell_type": "code",
   "execution_count": 12,
   "metadata": {},
   "outputs": [
    {
     "name": "stdout",
     "output_type": "stream",
     "text": [
      "샤오미 드리미 V10\n"
     ]
    }
   ],
   "source": [
    "# get title of the product\n",
    "title = prod_items[0].select('p.prod_name > a')[0].text.strip()\n",
    "print(title)"
   ]
  },
  {
   "cell_type": "code",
   "execution_count": 13,
   "metadata": {},
   "outputs": [
    {
     "name": "stdout",
     "output_type": "stream",
     "text": [
      "핸디/스틱청소기 / 핸디+스틱형 / 무선형 / 전압: 25.2V / 헤파필터 / H12급 / 5단계여과 / 흡입력: 140AW / 흡입력: 22000Pa / 먼지통용량: 0.5L / 충전시간: 3시간30분 / 사용시간: 1시간 / 용량: 2500mAh / 구성: 바닥, 침구, 솔형, 틈새, 연장툴, 거치대 / 무게: 1.5kg / 색상:화이트 / 소비전력: 450W\n"
     ]
    }
   ],
   "source": [
    "# 스팩 정보 가져오기\n",
    "spec_list = prod_items[0].select('div.spec_list')[0].text.strip()\n",
    "print(spec_list)"
   ]
  },
  {
   "cell_type": "code",
   "execution_count": 15,
   "metadata": {},
   "outputs": [
    {
     "name": "stdout",
     "output_type": "stream",
     "text": [
      "146130\n"
     ]
    }
   ],
   "source": [
    "# 가격 정보 가져오기\n",
    "price = prod_items[0].select('li.rank_one > p.price_sect > a > strong')[0].text.strip().replace(\",\", \"\")\n",
    "print(price)"
   ]
  },
  {
   "cell_type": "code",
   "execution_count": 17,
   "metadata": {},
   "outputs": [],
   "source": [
    "def get_prod_items(prod_items):\n",
    "    # for loop을 통해 모두 가져오기\n",
    "    prod_data = []\n",
    "\n",
    "    for prod_item in prod_items:\n",
    "        try:\n",
    "            title = prod_item.select('p.prod_name > a')[0].text.strip()\n",
    "        except:\n",
    "            title = ''\n",
    "\n",
    "        try:\n",
    "            spec_list = prod_item.select('div.spec_list')[0].text.strip()\n",
    "        except:\n",
    "            spec_list = ''\n",
    "\n",
    "        try:\n",
    "            price = prod_item.select('li.rank_one > p.price_sect > a > strong')[0].text.strip().replace(\",\", \"\")\n",
    "        except:\n",
    "            price = 0\n",
    "\n",
    "        prod_data.append([title, spec_list, price])\n",
    "\n",
    "    return prod_data\n"
   ]
  },
  {
   "cell_type": "code",
   "execution_count": 18,
   "metadata": {},
   "outputs": [
    {
     "name": "stdout",
     "output_type": "stream",
     "text": [
      "41\n"
     ]
    }
   ],
   "source": [
    "prod_data = get_prod_items(prod_items)\n",
    "print(len(prod_data))"
   ]
  },
  {
   "cell_type": "code",
   "execution_count": 19,
   "metadata": {},
   "outputs": [],
   "source": [
    "# 페이지 이동을 위한 함수\n",
    "def get_search_page_url(keyword, page):\n",
    "    return \"http://search.danawa.com/dsearch.php?query={}&volumeType=allvs&page={}&limit=40&sort=saveDESC&list=list&boost=true&addDelivery=N&recommendedSort=Y&defaultUICategoryCode=103740&defaultPhysicsCategoryCode=72%7C80%7C81%7C0&defaultVmTab=2368&defaultVaTab=120052&tab=main\".format(keyword, page)"
   ]
  },
  {
   "cell_type": "code",
   "execution_count": 20,
   "metadata": {},
   "outputs": [
    {
     "name": "stdout",
     "output_type": "stream",
     "text": [
      "http://search.danawa.com/dsearch.php?query=무선청소기&volumeType=allvs&page=1&limit=40&sort=saveDESC&list=list&boost=true&addDelivery=N&recommendedSort=Y&defaultUICategoryCode=103740&defaultPhysicsCategoryCode=72%7C80%7C81%7C0&defaultVmTab=2368&defaultVaTab=120052&tab=main\n"
     ]
    }
   ],
   "source": [
    "keyword = '무선청소기'\n",
    "page = 1\n",
    "url = get_search_page_url(keyword, page)\n",
    "print(url)"
   ]
  },
  {
   "cell_type": "code",
   "execution_count": 22,
   "metadata": {},
   "outputs": [
    {
     "data": {
      "application/vnd.jupyter.widget-view+json": {
       "model_id": "0bb5a74db4fe46a7a4b3b00bffe8461d",
       "version_major": 2,
       "version_minor": 0
      },
      "text/plain": [
       "HBox(children=(IntProgress(value=0, max=10), HTML(value='')))"
      ]
     },
     "metadata": {},
     "output_type": "display_data"
    },
    {
     "name": "stdout",
     "output_type": "stream",
     "text": [
      "\n"
     ]
    }
   ],
   "source": [
    "# 페이지를 이동하면서 정보를 수집\n",
    "from tqdm import tqdm_notebook\n",
    "import time\n",
    "\n",
    "browser = webdriver.Chrome(\"C:/Users/DooDoo/Desktop/data_analysis/chromedriver.exe\")\n",
    "# 웹 로드를 위해 3초까지 기다림\n",
    "browser.implicitly_wait(3)\n",
    "\n",
    "keyword = '무선청소기'\n",
    "total_page = 10\n",
    "prod_data_total = []\n",
    "\n",
    "#tqdm 을 이용하여 진행 정도 확인\n",
    "for page in tqdm_notebook(range(1, total_page+1)):\n",
    "    # url 이동\n",
    "    url = get_search_page_url(keyword, page)\n",
    "    browser.get(url)\n",
    "    #페이지 로딩 전 5초 할당\n",
    "    time.sleep(5)\n",
    "    \n",
    "    # 페이지 html 정보 가져오기\n",
    "    html = browser.page_source\n",
    "    soup = BeautifulSoup(html, 'html.parser')\n",
    "    \n",
    "    # 상품 정보 추출\n",
    "    prod_items = soup.select('div#productListArea > div.main_prodlist > ul.product_list > li.prod_item')\n",
    "    prod_item_list = get_prod_items(prod_items)\n",
    "    \n",
    "    # 데이터 저장\n",
    "    prod_data_total = prod_data_total + prod_item_list\n",
    "\n"
   ]
  },
  {
   "cell_type": "code",
   "execution_count": 24,
   "metadata": {},
   "outputs": [
    {
     "data": {
      "text/html": [
       "<div>\n",
       "<style scoped>\n",
       "    .dataframe tbody tr th:only-of-type {\n",
       "        vertical-align: middle;\n",
       "    }\n",
       "\n",
       "    .dataframe tbody tr th {\n",
       "        vertical-align: top;\n",
       "    }\n",
       "\n",
       "    .dataframe thead th {\n",
       "        text-align: right;\n",
       "    }\n",
       "</style>\n",
       "<table border=\"1\" class=\"dataframe\">\n",
       "  <thead>\n",
       "    <tr style=\"text-align: right;\">\n",
       "      <th></th>\n",
       "      <th>상품명</th>\n",
       "      <th>스펙 목록</th>\n",
       "      <th>가격</th>\n",
       "    </tr>\n",
       "  </thead>\n",
       "  <tbody>\n",
       "    <tr>\n",
       "      <td>0</td>\n",
       "      <td>샤오미 드리미 V10</td>\n",
       "      <td>핸디/스틱청소기 / 핸디+스틱형 / 무선형 / 전압: 25.2V / 헤파필터 / H...</td>\n",
       "      <td>146130</td>\n",
       "    </tr>\n",
       "    <tr>\n",
       "      <td>1</td>\n",
       "      <td>GNg3ItGpHz</td>\n",
       "      <td>GNg3ItGpHz665382</td>\n",
       "      <td>665382</td>\n",
       "    </tr>\n",
       "    <tr>\n",
       "      <td>2</td>\n",
       "      <td>LG전자 코드제로 A9S A9700</td>\n",
       "      <td>핸디/스틱청소기 / 핸디+스틱형 / 무선형 / 헤파필터 / 2중터보싸이클론 / 5단...</td>\n",
       "      <td>987660</td>\n",
       "    </tr>\n",
       "    <tr>\n",
       "      <td>3</td>\n",
       "      <td>다이슨 V8 플러피</td>\n",
       "      <td>핸디/스틱청소기 / 핸디+스틱형 / 무선형 / 전압: 21.6V / 싸이클론 / 흡...</td>\n",
       "      <td>428990</td>\n",
       "    </tr>\n",
       "    <tr>\n",
       "      <td>4</td>\n",
       "      <td>삼성전자 제트 VS15R8500BF</td>\n",
       "      <td>핸디/스틱청소기 / 핸디+스틱형 / 무선형 / 전압: 21.6V / 헤파필터 / 싸...</td>\n",
       "      <td>403310</td>\n",
       "    </tr>\n",
       "  </tbody>\n",
       "</table>\n",
       "</div>"
      ],
      "text/plain": [
       "                   상품명                                              스펙 목록  \\\n",
       "0          샤오미 드리미 V10  핸디/스틱청소기 / 핸디+스틱형 / 무선형 / 전압: 25.2V / 헤파필터 / H...   \n",
       "1           GNg3ItGpHz                                   GNg3ItGpHz665382   \n",
       "2  LG전자 코드제로 A9S A9700  핸디/스틱청소기 / 핸디+스틱형 / 무선형 / 헤파필터 / 2중터보싸이클론 / 5단...   \n",
       "3           다이슨 V8 플러피  핸디/스틱청소기 / 핸디+스틱형 / 무선형 / 전압: 21.6V / 싸이클론 / 흡...   \n",
       "4  삼성전자 제트 VS15R8500BF  핸디/스틱청소기 / 핸디+스틱형 / 무선형 / 전압: 21.6V / 헤파필터 / 싸...   \n",
       "\n",
       "       가격  \n",
       "0  146130  \n",
       "1  665382  \n",
       "2  987660  \n",
       "3  428990  \n",
       "4  403310  "
      ]
     },
     "execution_count": 24,
     "metadata": {},
     "output_type": "execute_result"
    }
   ],
   "source": [
    "import pandas as pd\n",
    "#데이터 저장\n",
    "data = pd.DataFrame(prod_data_total)\n",
    "data.columns = ['상품명', '스펙 목록', '가격']\n",
    "data.head()"
   ]
  },
  {
   "cell_type": "markdown",
   "metadata": {},
   "source": [
    "### 2. 크롤링 데이터 전처리"
   ]
  },
  {
   "cell_type": "code",
   "execution_count": 25,
   "metadata": {},
   "outputs": [
    {
     "name": "stdout",
     "output_type": "stream",
     "text": [
      "<class 'pandas.core.frame.DataFrame'>\n",
      "RangeIndex: 410 entries, 0 to 409\n",
      "Data columns (total 3 columns):\n",
      "상품명      410 non-null object\n",
      "스펙 목록    410 non-null object\n",
      "가격       410 non-null object\n",
      "dtypes: object(3)\n",
      "memory usage: 9.7+ KB\n"
     ]
    }
   ],
   "source": [
    "data.info()"
   ]
  },
  {
   "cell_type": "code",
   "execution_count": 31,
   "metadata": {},
   "outputs": [
    {
     "name": "stdout",
     "output_type": "stream",
     "text": [
      "410\n",
      "['샤오미', 'GNg3ItGpHz', 'LG전자', '다이슨', '삼성전자']\n",
      "410\n",
      "['드리미 V10', 'NA', '코드제로 A9S A9700', 'V8 플러피', '제트 VS15R8500BF']\n"
     ]
    }
   ],
   "source": [
    "# 상품명 데이터에서 회사명과 상품명 분리\n",
    "company_list = []\n",
    "product_list = []\n",
    "for title in data['상품명']:\n",
    "    title_info = title.split(' ', 1)\n",
    "    try:\n",
    "        company_name = title_info[0]\n",
    "    except:\n",
    "        company_name = 'NA'\n",
    "    \n",
    "    try:\n",
    "        product_name = title_info[1]\n",
    "    except:\n",
    "        product_name = 'NA'\n",
    "    company_list.append(company_name)\n",
    "    product_list.append(product_name)\n",
    "    \n",
    "print(len(company_list))\n",
    "print(company_list[:5])\n",
    "print(len(product_list))\n",
    "print(product_list[:5])"
   ]
  },
  {
   "cell_type": "code",
   "execution_count": 33,
   "metadata": {},
   "outputs": [],
   "source": [
    "# 크롤링 중 필요없는 정보가 들어온 로우들 삭제\n",
    "data['상품명_1'] = product_list\n",
    "data['회사명'] = company_list\n",
    "\n",
    "data = data[data.상품명_1 != 'NA']"
   ]
  },
  {
   "cell_type": "code",
   "execution_count": 36,
   "metadata": {},
   "outputs": [],
   "source": [
    "# 스펙 목록 데이터 전처리\n",
    "# 카테고리, 사용시간, 흡인력 추출\n",
    "category_list = []\n",
    "use_time_list = []\n",
    "suction_list = []\n",
    "\n",
    "for spec_data in data['스펙 목록']:\n",
    "    # ' / ' 기준으로 스펙 분리\n",
    "    spec_list = spec_data.split('/')\n",
    "    \n",
    "    # 카테고리 추출\n",
    "    category = spec_list[0]\n",
    "    category_list.append(category)\n",
    "    \n",
    "    # 사용시간, 흡인력 추출\n",
    "    ## 정보가 없을시 대비\n",
    "    use_time_value = None\n",
    "    suction_value = None\n",
    "    \n",
    "    ## spec_list의 각 원소에서 사용시간, 흡입력 수치 추출\n",
    "    \n",
    "    for spec in spec_list:\n",
    "        if '사용시간' in spec:\n",
    "            use_time_value = spec.split(' ')[2].strip()\n",
    "        if '흡입력' in spec:\n",
    "            suction_value = spec.split(' ')[2].strip()\n",
    "    \n",
    "    use_time_list.append(use_time_value)\n",
    "    suction_list.append(suction_value)\n"
   ]
  },
  {
   "cell_type": "code",
   "execution_count": 37,
   "metadata": {},
   "outputs": [
    {
     "name": "stdout",
     "output_type": "stream",
     "text": [
      "400 ['핸디', '핸디', '핸디', '핸디', '차량용청소기 ']\n",
      "400 ['1시간', '2시간', '40분', '40분', '25분']\n",
      "400 ['22000Pa', '200W', '155AW', '150W', '16,800Pa']\n"
     ]
    }
   ],
   "source": [
    "print(len(category_list), category_list[:5])\n",
    "print(len(use_time_list), use_time_list[:5])\n",
    "print(len(suction_list), suction_list[:5])"
   ]
  },
  {
   "cell_type": "markdown",
   "metadata": {},
   "source": [
    "#### 2.1 무선청소기 사용시간 단위 통일 "
   ]
  },
  {
   "cell_type": "code",
   "execution_count": 39,
   "metadata": {},
   "outputs": [],
   "source": [
    "# 시간과 분을 따로 추출해 주고, 분으로 일괄계산\n",
    "def convert_time_minute(time):\n",
    "    try:\n",
    "        if '시간' in time:\n",
    "            hour = time.split('시간')[0]\n",
    "            if '분' in time:\n",
    "                minute = time.split('시간')[-1].split('분')[0]\n",
    "            else:\n",
    "                minute = 0\n",
    "        else:\n",
    "            hour = 0\n",
    "            minute = time.split('분')[0]\n",
    "        return int(hour)*60 + int(minute)\n",
    "    except:\n",
    "        return None"
   ]
  },
  {
   "cell_type": "code",
   "execution_count": 43,
   "metadata": {},
   "outputs": [],
   "source": [
    "new_use_time_list = []\n",
    "for time in use_time_list:\n",
    "    value = convert_time_minute(time)\n",
    "    new_use_time_list.append(value)"
   ]
  },
  {
   "cell_type": "code",
   "execution_count": 44,
   "metadata": {},
   "outputs": [
    {
     "name": "stdout",
     "output_type": "stream",
     "text": [
      "400\n",
      "[60, 120, 40, 40, 25, 120, 45, 40, 40, 60]\n"
     ]
    }
   ],
   "source": [
    "print(len(new_use_time_list))\n",
    "print(new_use_time_list[:10])"
   ]
  },
  {
   "cell_type": "markdown",
   "metadata": {},
   "source": [
    "#### 2.2 무선 청소기 흡입력 단위 통일"
   ]
  },
  {
   "cell_type": "code",
   "execution_count": 45,
   "metadata": {},
   "outputs": [],
   "source": [
    "# 1W = 1AW = 100PA\n",
    "## AW 기준으로 통일\n",
    "\n",
    "def get_suction(value):\n",
    "    try:\n",
    "        value = value.upper()\n",
    "        if \"AW\" in value or \"W\" in value:\n",
    "            result = value.replace(\"A\", \"\").replace(\"W\", \"\")\n",
    "            result = int(result.replace(\",\",\"\"))\n",
    "        elif \"PA\" in value:\n",
    "            result = value.replace(\"PA\", \"\")\n",
    "            result = int(result.replace(\",\", \"\")) / 100\n",
    "        else:\n",
    "            result = None\n",
    "        \n",
    "        return result\n",
    "    except:\n",
    "        return None"
   ]
  },
  {
   "cell_type": "code",
   "execution_count": 47,
   "metadata": {},
   "outputs": [],
   "source": [
    "new_suction_list = []\n",
    "for power in suction_list:\n",
    "    value = get_suction(power)\n",
    "    new_suction_list.append(value)"
   ]
  },
  {
   "cell_type": "code",
   "execution_count": 48,
   "metadata": {},
   "outputs": [
    {
     "name": "stdout",
     "output_type": "stream",
     "text": [
      "400\n",
      "[220.0, 200, 155, 150, 168.0, 200, None, None, 100, 160]\n"
     ]
    }
   ],
   "source": [
    "print(len(new_suction_list))\n",
    "print(new_suction_list[:10])"
   ]
  },
  {
   "cell_type": "markdown",
   "metadata": {},
   "source": [
    "#### 2.3 전처리 결과 통합"
   ]
  },
  {
   "cell_type": "code",
   "execution_count": 52,
   "metadata": {},
   "outputs": [
    {
     "data": {
      "text/html": [
       "<div>\n",
       "<style scoped>\n",
       "    .dataframe tbody tr th:only-of-type {\n",
       "        vertical-align: middle;\n",
       "    }\n",
       "\n",
       "    .dataframe tbody tr th {\n",
       "        vertical-align: top;\n",
       "    }\n",
       "\n",
       "    .dataframe thead th {\n",
       "        text-align: right;\n",
       "    }\n",
       "</style>\n",
       "<table border=\"1\" class=\"dataframe\">\n",
       "  <thead>\n",
       "    <tr style=\"text-align: right;\">\n",
       "      <th></th>\n",
       "      <th>카테고리</th>\n",
       "      <th>회사명</th>\n",
       "      <th>제품</th>\n",
       "      <th>가격</th>\n",
       "      <th>사용시간</th>\n",
       "      <th>흡입력</th>\n",
       "    </tr>\n",
       "  </thead>\n",
       "  <tbody>\n",
       "    <tr>\n",
       "      <td>0</td>\n",
       "      <td>핸디</td>\n",
       "      <td>샤오미</td>\n",
       "      <td>드리미 V10</td>\n",
       "      <td>146130</td>\n",
       "      <td>60.0</td>\n",
       "      <td>220.0</td>\n",
       "    </tr>\n",
       "    <tr>\n",
       "      <td>1</td>\n",
       "      <td>핸디</td>\n",
       "      <td>NaN</td>\n",
       "      <td>NaN</td>\n",
       "      <td>NaN</td>\n",
       "      <td>120.0</td>\n",
       "      <td>200.0</td>\n",
       "    </tr>\n",
       "    <tr>\n",
       "      <td>2</td>\n",
       "      <td>핸디</td>\n",
       "      <td>LG전자</td>\n",
       "      <td>코드제로 A9S A9700</td>\n",
       "      <td>987660</td>\n",
       "      <td>40.0</td>\n",
       "      <td>155.0</td>\n",
       "    </tr>\n",
       "    <tr>\n",
       "      <td>3</td>\n",
       "      <td>핸디</td>\n",
       "      <td>다이슨</td>\n",
       "      <td>V8 플러피</td>\n",
       "      <td>428990</td>\n",
       "      <td>40.0</td>\n",
       "      <td>150.0</td>\n",
       "    </tr>\n",
       "    <tr>\n",
       "      <td>4</td>\n",
       "      <td>차량용청소기</td>\n",
       "      <td>삼성전자</td>\n",
       "      <td>제트 VS15R8500BF</td>\n",
       "      <td>403310</td>\n",
       "      <td>25.0</td>\n",
       "      <td>168.0</td>\n",
       "    </tr>\n",
       "  </tbody>\n",
       "</table>\n",
       "</div>"
      ],
      "text/plain": [
       "      카테고리   회사명              제품      가격   사용시간    흡입력\n",
       "0       핸디   샤오미         드리미 V10  146130   60.0  220.0\n",
       "1       핸디   NaN             NaN     NaN  120.0  200.0\n",
       "2       핸디  LG전자  코드제로 A9S A9700  987660   40.0  155.0\n",
       "3       핸디   다이슨          V8 플러피  428990   40.0  150.0\n",
       "4  차량용청소기   삼성전자  제트 VS15R8500BF  403310   25.0  168.0"
      ]
     },
     "execution_count": 52,
     "metadata": {},
     "output_type": "execute_result"
    }
   ],
   "source": [
    "pd_data = pd.DataFrame()\n",
    "pd_data['카테고리'] = category_list\n",
    "pd_data['회사명'] = data['회사명']\n",
    "pd_data['제품'] = data['상품명_1']\n",
    "pd_data['가격'] = data['가격']\n",
    "pd_data['사용시간'] = new_use_time_list\n",
    "pd_data['흡입력'] = new_suction_list\n",
    "pd_data.head()"
   ]
  },
  {
   "cell_type": "code",
   "execution_count": 53,
   "metadata": {},
   "outputs": [
    {
     "data": {
      "text/plain": [
       "핸디         317\n",
       "물걸레청소기      39\n",
       "차량용청소기      23\n",
       "욕실청소기        8\n",
       "업소용청소기       6\n",
       "침구청소기        4\n",
       "로봇청소기        2\n",
       "진공청소기        1\n",
       "Name: 카테고리, dtype: int64"
      ]
     },
     "execution_count": 53,
     "metadata": {},
     "output_type": "execute_result"
    }
   ],
   "source": [
    "# 카테고리별 분류 \n",
    "pd_data['카테고리'].value_counts()"
   ]
  },
  {
   "cell_type": "code",
   "execution_count": 54,
   "metadata": {},
   "outputs": [
    {
     "data": {
      "text/plain": [
       "317"
      ]
     },
     "execution_count": 54,
     "metadata": {},
     "output_type": "execute_result"
    }
   ],
   "source": [
    "# 핸디 청소기만 선택\n",
    "pd_data_final = pd_data[pd_data['카테고리'].isin(['핸디'])]\n",
    "len(pd_data_final)"
   ]
  },
  {
   "cell_type": "markdown",
   "metadata": {},
   "source": [
    "#### 3.1 데이터 살펴보기"
   ]
  },
  {
   "cell_type": "code",
   "execution_count": 55,
   "metadata": {},
   "outputs": [
    {
     "data": {
      "text/html": [
       "<div>\n",
       "<style scoped>\n",
       "    .dataframe tbody tr th:only-of-type {\n",
       "        vertical-align: middle;\n",
       "    }\n",
       "\n",
       "    .dataframe tbody tr th {\n",
       "        vertical-align: top;\n",
       "    }\n",
       "\n",
       "    .dataframe thead th {\n",
       "        text-align: right;\n",
       "    }\n",
       "</style>\n",
       "<table border=\"1\" class=\"dataframe\">\n",
       "  <thead>\n",
       "    <tr style=\"text-align: right;\">\n",
       "      <th></th>\n",
       "      <th>카테고리</th>\n",
       "      <th>회사명</th>\n",
       "      <th>제품</th>\n",
       "      <th>가격</th>\n",
       "      <th>사용시간</th>\n",
       "      <th>흡입력</th>\n",
       "    </tr>\n",
       "  </thead>\n",
       "  <tbody>\n",
       "    <tr>\n",
       "      <td>157</td>\n",
       "      <td>핸디</td>\n",
       "      <td>삼성전자</td>\n",
       "      <td>제트 VS15R8544S4CW</td>\n",
       "      <td>548990</td>\n",
       "      <td>120.0</td>\n",
       "      <td>330.0</td>\n",
       "    </tr>\n",
       "    <tr>\n",
       "      <td>223</td>\n",
       "      <td>핸디</td>\n",
       "      <td>DIBEA</td>\n",
       "      <td>X30</td>\n",
       "      <td>228990</td>\n",
       "      <td>25.0</td>\n",
       "      <td>290.0</td>\n",
       "    </tr>\n",
       "    <tr>\n",
       "      <td>269</td>\n",
       "      <td>핸디</td>\n",
       "      <td>에이스전자</td>\n",
       "      <td>AVG-LC9600BT</td>\n",
       "      <td>146010</td>\n",
       "      <td>60.0</td>\n",
       "      <td>290.0</td>\n",
       "    </tr>\n",
       "    <tr>\n",
       "      <td>57</td>\n",
       "      <td>핸디</td>\n",
       "      <td>삼성전자</td>\n",
       "      <td>제트 VS20R9074S2</td>\n",
       "      <td>599990</td>\n",
       "      <td>90.0</td>\n",
       "      <td>270.0</td>\n",
       "    </tr>\n",
       "    <tr>\n",
       "      <td>23</td>\n",
       "      <td>핸디</td>\n",
       "      <td>삼성전자</td>\n",
       "      <td>제트 VS20R9078S2</td>\n",
       "      <td>674750</td>\n",
       "      <td>60.0</td>\n",
       "      <td>260.0</td>\n",
       "    </tr>\n",
       "  </tbody>\n",
       "</table>\n",
       "</div>"
      ],
      "text/plain": [
       "    카테고리    회사명                제품      가격   사용시간    흡입력\n",
       "157   핸디   삼성전자  제트 VS15R8544S4CW  548990  120.0  330.0\n",
       "223   핸디  DIBEA               X30  228990   25.0  290.0\n",
       "269   핸디  에이스전자      AVG-LC9600BT  146010   60.0  290.0\n",
       "57    핸디   삼성전자    제트 VS20R9074S2  599990   90.0  270.0\n",
       "23    핸디   삼성전자    제트 VS20R9078S2  674750   60.0  260.0"
      ]
     },
     "execution_count": 55,
     "metadata": {},
     "output_type": "execute_result"
    }
   ],
   "source": [
    "#흡인력 기준 정렬\n",
    "top_list = pd_data_final.sort_values([\"흡입력\"], ascending=False)\n",
    "top_list.head()"
   ]
  },
  {
   "cell_type": "code",
   "execution_count": 56,
   "metadata": {},
   "outputs": [
    {
     "data": {
      "text/html": [
       "<div>\n",
       "<style scoped>\n",
       "    .dataframe tbody tr th:only-of-type {\n",
       "        vertical-align: middle;\n",
       "    }\n",
       "\n",
       "    .dataframe tbody tr th {\n",
       "        vertical-align: top;\n",
       "    }\n",
       "\n",
       "    .dataframe thead th {\n",
       "        text-align: right;\n",
       "    }\n",
       "</style>\n",
       "<table border=\"1\" class=\"dataframe\">\n",
       "  <thead>\n",
       "    <tr style=\"text-align: right;\">\n",
       "      <th></th>\n",
       "      <th>카테고리</th>\n",
       "      <th>회사명</th>\n",
       "      <th>제품</th>\n",
       "      <th>가격</th>\n",
       "      <th>사용시간</th>\n",
       "      <th>흡입력</th>\n",
       "    </tr>\n",
       "  </thead>\n",
       "  <tbody>\n",
       "    <tr>\n",
       "      <td>126</td>\n",
       "      <td>핸디</td>\n",
       "      <td>NaN</td>\n",
       "      <td>NaN</td>\n",
       "      <td>NaN</td>\n",
       "      <td>120.0</td>\n",
       "      <td>200.0</td>\n",
       "    </tr>\n",
       "    <tr>\n",
       "      <td>70</td>\n",
       "      <td>핸디</td>\n",
       "      <td>다이슨</td>\n",
       "      <td>V11 플러피</td>\n",
       "      <td>854980</td>\n",
       "      <td>120.0</td>\n",
       "      <td>200.0</td>\n",
       "    </tr>\n",
       "    <tr>\n",
       "      <td>42</td>\n",
       "      <td>핸디</td>\n",
       "      <td>NaN</td>\n",
       "      <td>NaN</td>\n",
       "      <td>NaN</td>\n",
       "      <td>120.0</td>\n",
       "      <td>200.0</td>\n",
       "    </tr>\n",
       "    <tr>\n",
       "      <td>321</td>\n",
       "      <td>핸디</td>\n",
       "      <td>플러스마이너스제로</td>\n",
       "      <td>XJC-C030</td>\n",
       "      <td>323100</td>\n",
       "      <td>120.0</td>\n",
       "      <td>200.0</td>\n",
       "    </tr>\n",
       "    <tr>\n",
       "      <td>37</td>\n",
       "      <td>핸디</td>\n",
       "      <td>LG전자</td>\n",
       "      <td>코드제로 A9S 펫 A9700</td>\n",
       "      <td>1054520</td>\n",
       "      <td>120.0</td>\n",
       "      <td>200.0</td>\n",
       "    </tr>\n",
       "  </tbody>\n",
       "</table>\n",
       "</div>"
      ],
      "text/plain": [
       "    카테고리        회사명                제품       가격   사용시간    흡입력\n",
       "126   핸디        NaN               NaN      NaN  120.0  200.0\n",
       "70    핸디        다이슨           V11 플러피   854980  120.0  200.0\n",
       "42    핸디        NaN               NaN      NaN  120.0  200.0\n",
       "321   핸디  플러스마이너스제로          XJC-C030   323100  120.0  200.0\n",
       "37    핸디       LG전자  코드제로 A9S 펫 A9700  1054520  120.0  200.0"
      ]
     },
     "execution_count": 56,
     "metadata": {},
     "output_type": "execute_result"
    }
   ],
   "source": [
    "#사용시간 기준 정렬\n",
    "top_list = pd_data_final.sort_values([\"사용시간\"], ascending=False)\n",
    "top_list.head()"
   ]
  },
  {
   "cell_type": "code",
   "execution_count": 65,
   "metadata": {},
   "outputs": [
    {
     "data": {
      "text/html": [
       "<div>\n",
       "<style scoped>\n",
       "    .dataframe tbody tr th:only-of-type {\n",
       "        vertical-align: middle;\n",
       "    }\n",
       "\n",
       "    .dataframe tbody tr th {\n",
       "        vertical-align: top;\n",
       "    }\n",
       "\n",
       "    .dataframe thead th {\n",
       "        text-align: right;\n",
       "    }\n",
       "</style>\n",
       "<table border=\"1\" class=\"dataframe\">\n",
       "  <thead>\n",
       "    <tr style=\"text-align: right;\">\n",
       "      <th></th>\n",
       "      <th>카테고리</th>\n",
       "      <th>회사명</th>\n",
       "      <th>제품</th>\n",
       "      <th>가격</th>\n",
       "      <th>사용시간</th>\n",
       "      <th>흡입력</th>\n",
       "    </tr>\n",
       "  </thead>\n",
       "  <tbody>\n",
       "    <tr>\n",
       "      <td>157</td>\n",
       "      <td>핸디</td>\n",
       "      <td>삼성전자</td>\n",
       "      <td>제트 VS15R8544S4CW</td>\n",
       "      <td>548990</td>\n",
       "      <td>120.0</td>\n",
       "      <td>330.0</td>\n",
       "    </tr>\n",
       "    <tr>\n",
       "      <td>5</td>\n",
       "      <td>핸디</td>\n",
       "      <td>샤오미</td>\n",
       "      <td>CLEANFLY 차량용 무선 청소기 3세대 (해외구매)</td>\n",
       "      <td>51510</td>\n",
       "      <td>120.0</td>\n",
       "      <td>200.0</td>\n",
       "    </tr>\n",
       "    <tr>\n",
       "      <td>10</td>\n",
       "      <td>핸디</td>\n",
       "      <td>다이슨</td>\n",
       "      <td>V10 카본파이버</td>\n",
       "      <td>588670</td>\n",
       "      <td>120.0</td>\n",
       "      <td>200.0</td>\n",
       "    </tr>\n",
       "    <tr>\n",
       "      <td>11</td>\n",
       "      <td>핸디</td>\n",
       "      <td>LG전자</td>\n",
       "      <td>코드제로 A9S A9570</td>\n",
       "      <td>912610</td>\n",
       "      <td>120.0</td>\n",
       "      <td>200.0</td>\n",
       "    </tr>\n",
       "    <tr>\n",
       "      <td>21</td>\n",
       "      <td>핸디</td>\n",
       "      <td>베이스어스</td>\n",
       "      <td>차량용 무선 진공 청소기 A2 (해외구매)</td>\n",
       "      <td>19800</td>\n",
       "      <td>120.0</td>\n",
       "      <td>200.0</td>\n",
       "    </tr>\n",
       "  </tbody>\n",
       "</table>\n",
       "</div>"
      ],
      "text/plain": [
       "    카테고리    회사명                              제품      가격   사용시간    흡입력\n",
       "157   핸디   삼성전자                제트 VS15R8544S4CW  548990  120.0  330.0\n",
       "5     핸디    샤오미  CLEANFLY 차량용 무선 청소기 3세대 (해외구매)   51510  120.0  200.0\n",
       "10    핸디    다이슨                       V10 카본파이버  588670  120.0  200.0\n",
       "11    핸디   LG전자                  코드제로 A9S A9570  912610  120.0  200.0\n",
       "21    핸디  베이스어스         차량용 무선 진공 청소기 A2 (해외구매)   19800  120.0  200.0"
      ]
     },
     "execution_count": 65,
     "metadata": {},
     "output_type": "execute_result"
    }
   ],
   "source": [
    "# 흡인력 & 사용시간 TOP\n",
    "top_list = pd_data_final.sort_values([\"사용시간\", \"흡입력\"], ascending=False)\n",
    "top_list[top_list.회사명.isnull() == False].head()"
   ]
  },
  {
   "cell_type": "markdown",
   "metadata": {},
   "source": [
    "#### 3.2 가성비 좋은 제품 살펴보기"
   ]
  },
  {
   "cell_type": "code",
   "execution_count": 66,
   "metadata": {},
   "outputs": [],
   "source": [
    "pd_data_final = pd_data_final[pd_data_final.회사명.isnull() == False]"
   ]
  },
  {
   "cell_type": "code",
   "execution_count": 77,
   "metadata": {},
   "outputs": [
    {
     "name": "stderr",
     "output_type": "stream",
     "text": [
      "C:\\Users\\DooDoo\\Anaconda3\\lib\\site-packages\\ipykernel_launcher.py:1: SettingWithCopyWarning: \n",
      "A value is trying to be set on a copy of a slice from a DataFrame.\n",
      "Try using .loc[row_indexer,col_indexer] = value instead\n",
      "\n",
      "See the caveats in the documentation: http://pandas.pydata.org/pandas-docs/stable/user_guide/indexing.html#returning-a-view-versus-a-copy\n",
      "  \"\"\"Entry point for launching an IPython kernel.\n"
     ]
    }
   ],
   "source": [
    "pd_data_final['가격'] = pd_data_final['가격'].astype(int)"
   ]
  },
  {
   "cell_type": "code",
   "execution_count": 78,
   "metadata": {},
   "outputs": [
    {
     "name": "stdout",
     "output_type": "stream",
     "text": [
      "353741.12621359224\n",
      "162.8298969072165\n",
      "49.069686411149824\n"
     ]
    }
   ],
   "source": [
    "# 평균 가격, 흡입력, 사용시간 연산\n",
    "price_mean_value = pd_data_final['가격'].mean()\n",
    "suction_mean_value = pd_data_final['흡입력'].mean()\n",
    "use_time_mean_value = pd_data_final['사용시간'].mean()\n",
    "\n",
    "print(price_mean_value)\n",
    "print(suction_mean_value)\n",
    "print(use_time_mean_value)"
   ]
  },
  {
   "cell_type": "code",
   "execution_count": 79,
   "metadata": {},
   "outputs": [
    {
     "data": {
      "text/html": [
       "<div>\n",
       "<style scoped>\n",
       "    .dataframe tbody tr th:only-of-type {\n",
       "        vertical-align: middle;\n",
       "    }\n",
       "\n",
       "    .dataframe tbody tr th {\n",
       "        vertical-align: top;\n",
       "    }\n",
       "\n",
       "    .dataframe thead th {\n",
       "        text-align: right;\n",
       "    }\n",
       "</style>\n",
       "<table border=\"1\" class=\"dataframe\">\n",
       "  <thead>\n",
       "    <tr style=\"text-align: right;\">\n",
       "      <th></th>\n",
       "      <th>카테고리</th>\n",
       "      <th>회사명</th>\n",
       "      <th>제품</th>\n",
       "      <th>가격</th>\n",
       "      <th>사용시간</th>\n",
       "      <th>흡입력</th>\n",
       "    </tr>\n",
       "  </thead>\n",
       "  <tbody>\n",
       "    <tr>\n",
       "      <td>39</td>\n",
       "      <td>핸디</td>\n",
       "      <td>샤오미</td>\n",
       "      <td>드리미 V9</td>\n",
       "      <td>117990</td>\n",
       "      <td>45.0</td>\n",
       "      <td>90.0</td>\n",
       "    </tr>\n",
       "    <tr>\n",
       "      <td>43</td>\n",
       "      <td>핸디</td>\n",
       "      <td>일렉트로룩스</td>\n",
       "      <td>ZB3302AK</td>\n",
       "      <td>164080</td>\n",
       "      <td>40.0</td>\n",
       "      <td>155.0</td>\n",
       "    </tr>\n",
       "    <tr>\n",
       "      <td>59</td>\n",
       "      <td>핸디</td>\n",
       "      <td>샤오미</td>\n",
       "      <td>드리미 V12</td>\n",
       "      <td>319330</td>\n",
       "      <td>40.0</td>\n",
       "      <td>150.0</td>\n",
       "    </tr>\n",
       "    <tr>\n",
       "      <td>60</td>\n",
       "      <td>핸디</td>\n",
       "      <td>샤오미</td>\n",
       "      <td>미지아 차량용 핸디 무선 청소기 (해외구매)</td>\n",
       "      <td>33900</td>\n",
       "      <td>40.0</td>\n",
       "      <td>155.0</td>\n",
       "    </tr>\n",
       "    <tr>\n",
       "      <td>75</td>\n",
       "      <td>핸디</td>\n",
       "      <td>DIBEA</td>\n",
       "      <td>M500 클래스</td>\n",
       "      <td>185070</td>\n",
       "      <td>35.0</td>\n",
       "      <td>25.0</td>\n",
       "    </tr>\n",
       "    <tr>\n",
       "      <td>88</td>\n",
       "      <td>핸디</td>\n",
       "      <td>DIBEA</td>\n",
       "      <td>M500 프로</td>\n",
       "      <td>178990</td>\n",
       "      <td>40.0</td>\n",
       "      <td>140.0</td>\n",
       "    </tr>\n",
       "    <tr>\n",
       "      <td>108</td>\n",
       "      <td>핸디</td>\n",
       "      <td>DIBEA</td>\n",
       "      <td>NEW F7</td>\n",
       "      <td>169000</td>\n",
       "      <td>40.0</td>\n",
       "      <td>115.0</td>\n",
       "    </tr>\n",
       "    <tr>\n",
       "      <td>133</td>\n",
       "      <td>핸디</td>\n",
       "      <td>EUP</td>\n",
       "      <td>VH806</td>\n",
       "      <td>112770</td>\n",
       "      <td>40.0</td>\n",
       "      <td>150.0</td>\n",
       "    </tr>\n",
       "    <tr>\n",
       "      <td>135</td>\n",
       "      <td>핸디</td>\n",
       "      <td>일렉트로룩스</td>\n",
       "      <td>에르고라피도 플러스 ZB3105AK</td>\n",
       "      <td>299000</td>\n",
       "      <td>40.0</td>\n",
       "      <td>140.0</td>\n",
       "    </tr>\n",
       "    <tr>\n",
       "      <td>148</td>\n",
       "      <td>핸디</td>\n",
       "      <td>유니맥스</td>\n",
       "      <td>UVC-1685A</td>\n",
       "      <td>30570</td>\n",
       "      <td>20.0</td>\n",
       "      <td>50.0</td>\n",
       "    </tr>\n",
       "    <tr>\n",
       "      <td>150</td>\n",
       "      <td>핸디</td>\n",
       "      <td>아이코넬</td>\n",
       "      <td>VC-K300W</td>\n",
       "      <td>80880</td>\n",
       "      <td>20.0</td>\n",
       "      <td>60.0</td>\n",
       "    </tr>\n",
       "    <tr>\n",
       "      <td>153</td>\n",
       "      <td>핸디</td>\n",
       "      <td>일렉트로룩스</td>\n",
       "      <td>에르고라피도 ZB3311</td>\n",
       "      <td>147400</td>\n",
       "      <td>40.0</td>\n",
       "      <td>150.0</td>\n",
       "    </tr>\n",
       "    <tr>\n",
       "      <td>176</td>\n",
       "      <td>핸디</td>\n",
       "      <td>샤오미</td>\n",
       "      <td>CLEANFLY 차량용 무선 청소기 (해외구매)</td>\n",
       "      <td>27760</td>\n",
       "      <td>30.0</td>\n",
       "      <td>100.0</td>\n",
       "    </tr>\n",
       "    <tr>\n",
       "      <td>177</td>\n",
       "      <td>핸디</td>\n",
       "      <td>한경희생활과학</td>\n",
       "      <td>아쿠아젯 RC-3500</td>\n",
       "      <td>141620</td>\n",
       "      <td>20.0</td>\n",
       "      <td>45.0</td>\n",
       "    </tr>\n",
       "    <tr>\n",
       "      <td>181</td>\n",
       "      <td>핸디</td>\n",
       "      <td>샤오미</td>\n",
       "      <td>디어마 VC01</td>\n",
       "      <td>48000</td>\n",
       "      <td>9.0</td>\n",
       "      <td>60.0</td>\n",
       "    </tr>\n",
       "    <tr>\n",
       "      <td>183</td>\n",
       "      <td>핸디</td>\n",
       "      <td>테팔</td>\n",
       "      <td>엑스퍼트 3.60 TY6933</td>\n",
       "      <td>202870</td>\n",
       "      <td>40.0</td>\n",
       "      <td>80.0</td>\n",
       "    </tr>\n",
       "    <tr>\n",
       "      <td>192</td>\n",
       "      <td>핸디</td>\n",
       "      <td>일렉트로룩스</td>\n",
       "      <td>라피도 ZB5106</td>\n",
       "      <td>50080</td>\n",
       "      <td>30.0</td>\n",
       "      <td>60.0</td>\n",
       "    </tr>\n",
       "    <tr>\n",
       "      <td>196</td>\n",
       "      <td>핸디</td>\n",
       "      <td>테팔</td>\n",
       "      <td>엑스퍼트 3.60 TY6921</td>\n",
       "      <td>207100</td>\n",
       "      <td>11.0</td>\n",
       "      <td>20.0</td>\n",
       "    </tr>\n",
       "    <tr>\n",
       "      <td>203</td>\n",
       "      <td>핸디</td>\n",
       "      <td>샤오미</td>\n",
       "      <td>COCLEAN 차량용 무선 청소기 가정용 충전기 220V</td>\n",
       "      <td>10600</td>\n",
       "      <td>25.0</td>\n",
       "      <td>35.0</td>\n",
       "    </tr>\n",
       "    <tr>\n",
       "      <td>218</td>\n",
       "      <td>핸디</td>\n",
       "      <td>엠제이컴퍼니</td>\n",
       "      <td>쿠조 텀블러 무선 청소기 PRG-1901</td>\n",
       "      <td>52200</td>\n",
       "      <td>40.0</td>\n",
       "      <td>150.0</td>\n",
       "    </tr>\n",
       "    <tr>\n",
       "      <td>228</td>\n",
       "      <td>핸디</td>\n",
       "      <td>아이룸</td>\n",
       "      <td>AST-009 플러스 맥스</td>\n",
       "      <td>117950</td>\n",
       "      <td>25.0</td>\n",
       "      <td>130.0</td>\n",
       "    </tr>\n",
       "    <tr>\n",
       "      <td>230</td>\n",
       "      <td>핸디</td>\n",
       "      <td>샤오미</td>\n",
       "      <td>VIOMI A9 V-HWVC12A</td>\n",
       "      <td>269000</td>\n",
       "      <td>11.0</td>\n",
       "      <td>28.0</td>\n",
       "    </tr>\n",
       "    <tr>\n",
       "      <td>244</td>\n",
       "      <td>핸디</td>\n",
       "      <td>킴스아이엔씨</td>\n",
       "      <td>바스웰 KSC-5000</td>\n",
       "      <td>82360</td>\n",
       "      <td>40.0</td>\n",
       "      <td>150.0</td>\n",
       "    </tr>\n",
       "    <tr>\n",
       "      <td>255</td>\n",
       "      <td>핸디</td>\n",
       "      <td>키친아트</td>\n",
       "      <td>KIA-BC100</td>\n",
       "      <td>46550</td>\n",
       "      <td>20.0</td>\n",
       "      <td>150.0</td>\n",
       "    </tr>\n",
       "    <tr>\n",
       "      <td>256</td>\n",
       "      <td>핸디</td>\n",
       "      <td>휴스톰</td>\n",
       "      <td>HS-11000</td>\n",
       "      <td>196530</td>\n",
       "      <td>25.0</td>\n",
       "      <td>150.0</td>\n",
       "    </tr>\n",
       "    <tr>\n",
       "      <td>259</td>\n",
       "      <td>핸디</td>\n",
       "      <td>루베크</td>\n",
       "      <td>CM-268</td>\n",
       "      <td>20420</td>\n",
       "      <td>10.0</td>\n",
       "      <td>15.0</td>\n",
       "    </tr>\n",
       "    <tr>\n",
       "      <td>273</td>\n",
       "      <td>핸디</td>\n",
       "      <td>카렉스</td>\n",
       "      <td>파워스톰 미니 무선청소기</td>\n",
       "      <td>81560</td>\n",
       "      <td>30.0</td>\n",
       "      <td>100.0</td>\n",
       "    </tr>\n",
       "    <tr>\n",
       "      <td>274</td>\n",
       "      <td>핸디</td>\n",
       "      <td>신일산업</td>\n",
       "      <td>SVC-DC2200SK</td>\n",
       "      <td>106560</td>\n",
       "      <td>25.0</td>\n",
       "      <td>130.0</td>\n",
       "    </tr>\n",
       "    <tr>\n",
       "      <td>275</td>\n",
       "      <td>핸디</td>\n",
       "      <td>신일산업</td>\n",
       "      <td>SVC-680G</td>\n",
       "      <td>29150</td>\n",
       "      <td>40.0</td>\n",
       "      <td>100.0</td>\n",
       "    </tr>\n",
       "    <tr>\n",
       "      <td>287</td>\n",
       "      <td>핸디</td>\n",
       "      <td>엔퓨텍</td>\n",
       "      <td>퓨라이트ED</td>\n",
       "      <td>149000</td>\n",
       "      <td>15.0</td>\n",
       "      <td>59.0</td>\n",
       "    </tr>\n",
       "    <tr>\n",
       "      <td>294</td>\n",
       "      <td>핸디</td>\n",
       "      <td>DIBEA</td>\n",
       "      <td>NEW S9</td>\n",
       "      <td>169000</td>\n",
       "      <td>20.0</td>\n",
       "      <td>60.0</td>\n",
       "    </tr>\n",
       "    <tr>\n",
       "      <td>314</td>\n",
       "      <td>핸디</td>\n",
       "      <td>유니맥스</td>\n",
       "      <td>UVC-1686A</td>\n",
       "      <td>30900</td>\n",
       "      <td>35.0</td>\n",
       "      <td>160.0</td>\n",
       "    </tr>\n",
       "    <tr>\n",
       "      <td>322</td>\n",
       "      <td>핸디</td>\n",
       "      <td>리빙코리아</td>\n",
       "      <td>웰스톰 VC150</td>\n",
       "      <td>169000</td>\n",
       "      <td>40.0</td>\n",
       "      <td>53.0</td>\n",
       "    </tr>\n",
       "    <tr>\n",
       "      <td>332</td>\n",
       "      <td>핸디</td>\n",
       "      <td>기펠</td>\n",
       "      <td>스텔라 JJ-SC-020BN</td>\n",
       "      <td>79180</td>\n",
       "      <td>42.0</td>\n",
       "      <td>150.0</td>\n",
       "    </tr>\n",
       "    <tr>\n",
       "      <td>337</td>\n",
       "      <td>핸디</td>\n",
       "      <td>트루쎈</td>\n",
       "      <td>SCV80</td>\n",
       "      <td>159000</td>\n",
       "      <td>20.0</td>\n",
       "      <td>130.0</td>\n",
       "    </tr>\n",
       "    <tr>\n",
       "      <td>352</td>\n",
       "      <td>핸디</td>\n",
       "      <td>한경희생활과학</td>\n",
       "      <td>HKH-C250B</td>\n",
       "      <td>79000</td>\n",
       "      <td>30.0</td>\n",
       "      <td>70.0</td>\n",
       "    </tr>\n",
       "    <tr>\n",
       "      <td>361</td>\n",
       "      <td>핸디</td>\n",
       "      <td>라쿠진</td>\n",
       "      <td>LCZ858</td>\n",
       "      <td>48740</td>\n",
       "      <td>20.0</td>\n",
       "      <td>90.0</td>\n",
       "    </tr>\n",
       "    <tr>\n",
       "      <td>362</td>\n",
       "      <td>핸디</td>\n",
       "      <td>DIBEA</td>\n",
       "      <td>P20 MAX</td>\n",
       "      <td>92980</td>\n",
       "      <td>45.0</td>\n",
       "      <td>90.0</td>\n",
       "    </tr>\n",
       "    <tr>\n",
       "      <td>364</td>\n",
       "      <td>핸디</td>\n",
       "      <td>툴앤툴</td>\n",
       "      <td>T400W</td>\n",
       "      <td>178000</td>\n",
       "      <td>40.0</td>\n",
       "      <td>120.0</td>\n",
       "    </tr>\n",
       "    <tr>\n",
       "      <td>366</td>\n",
       "      <td>핸디</td>\n",
       "      <td>엔퓨텍</td>\n",
       "      <td>퓨라이트에어XD</td>\n",
       "      <td>249000</td>\n",
       "      <td>30.0</td>\n",
       "      <td>120.0</td>\n",
       "    </tr>\n",
       "    <tr>\n",
       "      <td>373</td>\n",
       "      <td>핸디</td>\n",
       "      <td>레이캅</td>\n",
       "      <td>RPC-300</td>\n",
       "      <td>299000</td>\n",
       "      <td>15.0</td>\n",
       "      <td>86.0</td>\n",
       "    </tr>\n",
       "    <tr>\n",
       "      <td>375</td>\n",
       "      <td>핸디</td>\n",
       "      <td>테팔</td>\n",
       "      <td>엑스퍼트 3.60 TY6974</td>\n",
       "      <td>268990</td>\n",
       "      <td>35.0</td>\n",
       "      <td>120.0</td>\n",
       "    </tr>\n",
       "    <tr>\n",
       "      <td>378</td>\n",
       "      <td>핸디</td>\n",
       "      <td>캐치웰</td>\n",
       "      <td>Z20</td>\n",
       "      <td>129000</td>\n",
       "      <td>23.0</td>\n",
       "      <td>15.0</td>\n",
       "    </tr>\n",
       "    <tr>\n",
       "      <td>380</td>\n",
       "      <td>핸디</td>\n",
       "      <td>쎈스톰</td>\n",
       "      <td>에어쎈 EVC-A010ARD</td>\n",
       "      <td>108000</td>\n",
       "      <td>40.0</td>\n",
       "      <td>120.0</td>\n",
       "    </tr>\n",
       "    <tr>\n",
       "      <td>385</td>\n",
       "      <td>핸디</td>\n",
       "      <td>ABKO</td>\n",
       "      <td>오엘라 HV01</td>\n",
       "      <td>79000</td>\n",
       "      <td>40.0</td>\n",
       "      <td>150.0</td>\n",
       "    </tr>\n",
       "    <tr>\n",
       "      <td>394</td>\n",
       "      <td>핸디</td>\n",
       "      <td>캐치웰</td>\n",
       "      <td>G20</td>\n",
       "      <td>129000</td>\n",
       "      <td>40.0</td>\n",
       "      <td>150.0</td>\n",
       "    </tr>\n",
       "    <tr>\n",
       "      <td>396</td>\n",
       "      <td>핸디</td>\n",
       "      <td>휴스톰</td>\n",
       "      <td>HS-9600</td>\n",
       "      <td>149150</td>\n",
       "      <td>20.0</td>\n",
       "      <td>120.0</td>\n",
       "    </tr>\n",
       "  </tbody>\n",
       "</table>\n",
       "</div>"
      ],
      "text/plain": [
       "    카테고리      회사명                               제품      가격  사용시간    흡입력\n",
       "39    핸디      샤오미                           드리미 V9  117990  45.0   90.0\n",
       "43    핸디   일렉트로룩스                         ZB3302AK  164080  40.0  155.0\n",
       "59    핸디      샤오미                          드리미 V12  319330  40.0  150.0\n",
       "60    핸디      샤오미         미지아 차량용 핸디 무선 청소기 (해외구매)   33900  40.0  155.0\n",
       "75    핸디    DIBEA                         M500 클래스  185070  35.0   25.0\n",
       "88    핸디    DIBEA                          M500 프로  178990  40.0  140.0\n",
       "108   핸디    DIBEA                           NEW F7  169000  40.0  115.0\n",
       "133   핸디      EUP                            VH806  112770  40.0  150.0\n",
       "135   핸디   일렉트로룩스              에르고라피도 플러스 ZB3105AK  299000  40.0  140.0\n",
       "148   핸디     유니맥스                        UVC-1685A   30570  20.0   50.0\n",
       "150   핸디     아이코넬                         VC-K300W   80880  20.0   60.0\n",
       "153   핸디   일렉트로룩스                    에르고라피도 ZB3311  147400  40.0  150.0\n",
       "176   핸디      샤오미       CLEANFLY 차량용 무선 청소기 (해외구매)   27760  30.0  100.0\n",
       "177   핸디  한경희생활과학                     아쿠아젯 RC-3500  141620  20.0   45.0\n",
       "181   핸디      샤오미                         디어마 VC01   48000   9.0   60.0\n",
       "183   핸디       테팔                 엑스퍼트 3.60 TY6933  202870  40.0   80.0\n",
       "192   핸디   일렉트로룩스                       라피도 ZB5106   50080  30.0   60.0\n",
       "196   핸디       테팔                 엑스퍼트 3.60 TY6921  207100  11.0   20.0\n",
       "203   핸디      샤오미  COCLEAN 차량용 무선 청소기 가정용 충전기 220V   10600  25.0   35.0\n",
       "218   핸디   엠제이컴퍼니           쿠조 텀블러 무선 청소기 PRG-1901   52200  40.0  150.0\n",
       "228   핸디      아이룸                   AST-009 플러스 맥스  117950  25.0  130.0\n",
       "230   핸디      샤오미               VIOMI A9 V-HWVC12A  269000  11.0   28.0\n",
       "244   핸디   킴스아이엔씨                     바스웰 KSC-5000   82360  40.0  150.0\n",
       "255   핸디     키친아트                        KIA-BC100   46550  20.0  150.0\n",
       "256   핸디      휴스톰                         HS-11000  196530  25.0  150.0\n",
       "259   핸디      루베크                           CM-268   20420  10.0   15.0\n",
       "273   핸디      카렉스                    파워스톰 미니 무선청소기   81560  30.0  100.0\n",
       "274   핸디     신일산업                     SVC-DC2200SK  106560  25.0  130.0\n",
       "275   핸디     신일산업                         SVC-680G   29150  40.0  100.0\n",
       "287   핸디      엔퓨텍                           퓨라이트ED  149000  15.0   59.0\n",
       "294   핸디    DIBEA                           NEW S9  169000  20.0   60.0\n",
       "314   핸디     유니맥스                        UVC-1686A   30900  35.0  160.0\n",
       "322   핸디    리빙코리아                        웰스톰 VC150  169000  40.0   53.0\n",
       "332   핸디       기펠                  스텔라 JJ-SC-020BN   79180  42.0  150.0\n",
       "337   핸디      트루쎈                            SCV80  159000  20.0  130.0\n",
       "352   핸디  한경희생활과학                        HKH-C250B   79000  30.0   70.0\n",
       "361   핸디      라쿠진                           LCZ858   48740  20.0   90.0\n",
       "362   핸디    DIBEA                          P20 MAX   92980  45.0   90.0\n",
       "364   핸디      툴앤툴                            T400W  178000  40.0  120.0\n",
       "366   핸디      엔퓨텍                         퓨라이트에어XD  249000  30.0  120.0\n",
       "373   핸디      레이캅                          RPC-300  299000  15.0   86.0\n",
       "375   핸디       테팔                 엑스퍼트 3.60 TY6974  268990  35.0  120.0\n",
       "378   핸디      캐치웰                              Z20  129000  23.0   15.0\n",
       "380   핸디      쎈스톰                  에어쎈 EVC-A010ARD  108000  40.0  120.0\n",
       "385   핸디     ABKO                         오엘라 HV01   79000  40.0  150.0\n",
       "394   핸디      캐치웰                              G20  129000  40.0  150.0\n",
       "396   핸디      휴스톰                          HS-9600  149150  20.0  120.0"
      ]
     },
     "execution_count": 79,
     "metadata": {},
     "output_type": "execute_result"
    }
   ],
   "source": [
    "condition_data = pd_data_final[\n",
    "    (pd_data_final['가격'] <= price_mean_value) &\n",
    "    (pd_data_final['흡입력'] <= suction_mean_value) &\n",
    "    (pd_data_final['사용시간'] <= use_time_mean_value)\n",
    "]\n",
    "condition_data"
   ]
  },
  {
   "cell_type": "markdown",
   "metadata": {},
   "source": [
    "#### 3.3 데이터 시각화"
   ]
  },
  {
   "cell_type": "code",
   "execution_count": 81,
   "metadata": {},
   "outputs": [],
   "source": [
    "from matplotlib import font_manager, rc\n",
    "import matplotlib.pyplot as plt\n",
    "import seaborn as sns\n",
    "import platform \n",
    "# 그래프에서 한글 표기를 위한 글꼴 변경(윈도우, macOS에 대해 처리)\n",
    "font_path = ''\n",
    "if platform.system() == 'Windows': \n",
    "    font_path = 'c:/Windows/Fonts/malgun.ttf'\n",
    "    font_name = font_manager.FontProperties(fname = font_path).get_name()\n",
    "    rc('font', family = font_name)\n",
    "elif platform.system() == 'Darwin':\n",
    "    font_path = '/Users/$USER/Library/Fonts/AppleGothic.ttf'\n",
    "    rc('font', family = 'AppleGothic')\n",
    "else: \n",
    "    print('Check your OS system')\n",
    "    \n",
    "%matplotlib inline"
   ]
  },
  {
   "cell_type": "code",
   "execution_count": 82,
   "metadata": {},
   "outputs": [],
   "source": [
    "# 결손값 처리\n",
    "chart_data = pd_data_final.dropna(axis=0)"
   ]
  },
  {
   "cell_type": "code",
   "execution_count": 83,
   "metadata": {},
   "outputs": [],
   "source": [
    "# 흡입력, 사용시간 최대, 최소\n",
    "suction_max_value = chart_data['흡입력'].max()\n",
    "suction_mean_value = chart_data['흡입력'].mean()\n",
    "use_time_max_value = chart_data['사용시간'].max()\n",
    "use_time_mean_value = chart_data['사용시간'].mean()"
   ]
  },
  {
   "cell_type": "code",
   "execution_count": 91,
   "metadata": {},
   "outputs": [
    {
     "data": {
      "image/png": "[encoded data removed]",
      "text/plain": [
       "<Figure size 1440x720 with 1 Axes>"
      ]
     },
     "metadata": {
      "needs_background": "light"
     },
     "output_type": "display_data"
    }
   ],
   "source": [
    "# 청소기 성능 시각화\n",
    "plt.figure(figsize=(20, 10))\n",
    "plt.title(\"무선 핸디/스틱청소기 차트\")\n",
    "sns.scatterplot(x = '흡입력', y = '사용시간', size = '가격', hue = chart_data['회사명'], \n",
    "             data = chart_data, sizes = (10, 1000), legend = False)\n",
    "plt.plot([0, suction_max_value], \n",
    "          [use_time_mean_value, use_time_mean_value], \n",
    "          'r--', \n",
    "          lw = 1 )\n",
    "plt.plot([suction_mean_value, suction_mean_value], \n",
    "          [0, use_time_max_value], \n",
    "          'r--', \n",
    "          lw = 1 )\n",
    "plt.show()"
   ]
  },
  {
   "cell_type": "code",
   "execution_count": 85,
   "metadata": {},
   "outputs": [],
   "source": [
    "# 인기제품 시각화\n",
    "\n",
    "chart_data_selected = chart_data[:20]"
   ]
  },
  {
   "cell_type": "code",
   "execution_count": 92,
   "metadata": {},
   "outputs": [
    {
     "data": {
      "image/png": "[encoded data removed]",
      "text/plain": [
       "<Figure size 1440x720 with 1 Axes>"
      ]
     },
     "metadata": {
      "needs_background": "light"
     },
     "output_type": "display_data"
    }
   ],
   "source": [
    "# 흡입력, 사용시간의 최댓값, 최솟값 구하기\n",
    "suction_max_value = chart_data_selected['흡입력'].max()\n",
    "suction_mean_value = chart_data_selected['흡입력'].mean()\n",
    "use_time_max_value = chart_data_selected['사용시간'].max()\n",
    "use_time_mean_value = chart_data_selected['사용시간'].mean()\n",
    "plt.figure(figsize=(20, 10))\n",
    "plt.title(\"무선 핸디/스틱청소기 TOP 20\")\n",
    "sns.scatterplot(x = '흡입력', \n",
    "                  y = '사용시간', \n",
    "                  size = '가격', \n",
    "                  hue = chart_data_selected['회사명'], \n",
    "                  data = chart_data_selected, sizes = (100, 2000),\n",
    "                  legend = 'brief')\n",
    "plt.plot([60, suction_max_value], \n",
    "          [use_time_mean_value, use_time_mean_value], \n",
    "          'r--', \n",
    "          lw = 1 )\n",
    "plt.plot([suction_mean_value, suction_mean_value], \n",
    "          [20, use_time_max_value], \n",
    "          'r--', \n",
    "          lw = 1 )\n",
    "for index, row in chart_data_selected.iterrows():\n",
    "    x = row['흡입력']\n",
    "    y = row['사용시간']\n",
    "    s = row['제품'].split(' ')[0]\n",
    "    plt.text(x, y, s, size=12)\n",
    "plt.show()"
   ]
  },
  {
   "cell_type": "markdown",
   "metadata": {},
   "source": [
    "- LG 전자와 다이슨에서 나온 핸디 청소기가 가장 사용시간이 길고 흡입력이 좋은 것이 확인된다"
   ]
  },
  {
   "cell_type": "code",
   "execution_count": null,
   "metadata": {},
   "outputs": [],
   "source": []
  }
 ],
 "metadata": {
  "kernelspec": {
   "display_name": "Python 3",
   "language": "python",
   "name": "python3"
  },
  "language_info": {
   "codemirror_mode": {
    "name": "ipython",
    "version": 3
   },
   "file_extension": ".py",
   "mimetype": "text/x-python",
   "name": "python",
   "nbconvert_exporter": "python",
   "pygments_lexer": "ipython3",
   "version": "3.7.4"
  }
 },
 "nbformat": 4,
 "nbformat_minor": 2
}
